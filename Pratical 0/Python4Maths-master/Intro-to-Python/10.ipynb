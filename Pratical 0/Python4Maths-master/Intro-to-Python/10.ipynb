{
 "cells": [
  {
   "cell_type": "markdown",
   "metadata": {},
   "source": [
    "<small><small><i>\n",
    "All of these python notebooks are available at [https://gitlab.erc.monash.edu.au/andrease/Python4Maths.git]\n",
    "</i></small></small>"
   ]
  },
  {
   "cell_type": "markdown",
   "metadata": {},
   "source": [
    "## Network Examples\n",
    "\n",
    "Two basic python libraries that allow dealing with graphs are `networkx` and `graphviz`. The second of these is fairly small and really just for visualising graphs (see [graphviz documentation](http://graphviz.readthedocs.io/en/stable/) for details). \n",
    "\n",
    "*Note:* If either of these libraries is not installed on your own computer may need to use `conda install graphviz python-graphviz networkx` using the Anaconda commandline.\n",
    "\n",
    "The `networkx` library has an extensive set of graph algorithms implemented for graphs, directed graphs and multigraphs (graphs/networks with parallel edges). Note that the aim of this is mainly to provide \"ease of use\" rather than efficiency, so everything is stored in dictionaries. For example, each edge has a data dictionary associated with it. To store the upper bound and capacity for this, it is necessary to store something like \n",
    "`data={\"capacity\":3, \"weight\": 5.5}` to specify that the edge has an upper bound of 3 on flow, and a cost of 5. This is not very efficient. In fact the first thing any of the algorithm implementations do is to map all data back to lists! Also, while the library doesn't specifically prohibit it, it generally doesn't handle floating point values very well (no allowance for $\\epsilon$ differences that can occur due to numerical errors). \n",
    "\n",
    "Hence the `networkx` library is useful for validating any code you write, but it is expected that normally it will be possible with a little effort to create better performing methods for any of the algorithms in this library. For more information about the library see the [networkx documentation](https://networkx.github.io/documentation/stable/index.html). \n",
    "\n",
    "### Creating and displaying a random graph\n",
    "Here we create a random graph and provide a small utility function that converts a networkx graph object to the corresponding graphviz object for the purposes of diplaying it.\n",
    "\n",
    "Some useful methods for graph objects from the networkx library include\n",
    "  * `G.nodes_iter()` iterates over all nodes in the graph object G. Nodes are usually indexed by integers from 0.\n",
    "  * `G.edges_iter()` returns (tail,head) pairs for each edge in the graph object G. Optionally you can use `G.edges_iter(data=True)` to get (tail,head,dataDictionary) objects.\n",
    "  * `G.out_edges_iter(n)`, `G.in_edges_iter(n)` and `G.edges_iter(n)` iterates over the edges pointing out, in and all edges attached to node `n` respectively. Again these iterators return (tail,head) or (tail,head,data) tuples\n",
    "  * All of the above methods have an equivalent method without the `_iter` in the name which simply return a list. So `G.nodes()` is equivalent to `[n for n in G.nodes_iter()]`\n",
    " \n",
    "The networkx library handles parallel edges - but this was clearly an afterthought and is not done well. It changes the data type from `DiGraph` to `MultiDiGraph` and there is no easy way to refer to one of a set of parallel edges.\n"
   ]
  },
  {
   "cell_type": "code",
   "execution_count": 3,
   "metadata": {
    "ExecuteTime": {
     "end_time": "2023-10-04T11:06:50.729357500Z",
     "start_time": "2023-10-04T11:06:50.598465500Z"
    }
   },
   "outputs": [],
   "source": [
    "import networkx as nx\n",
    "import graphviz\n",
    "def nx2gv(net,nodeLabel={},edgeLabel={},edgeSet={},nodeSet={}):\n",
    "    \"\"\"Convert networkx.DiGraph to graphviz.Digraph for visualisation.\n",
    "    Optionally include labels (values) for nodes, arcs & sets to highlight\"\"\"\n",
    "    g = graphviz.Digraph()\n",
    "    for nd in net.nodes_iter():\n",
    "        g.node(str(nd),str(nd)+(\":\"+str(nodeLabel[nd]) if nd in nodeLabel else \"\"),\n",
    "               color=(\"red\" if nd in nodeSet else \"black\"))\n",
    "    for tail,head in net.edges_iter():\n",
    "        col=(\"red\" if (tail,head) in edgeSet else \"black\")\n",
    "        if (tail,head) in edgeLabel:\n",
    "            g.edge(str(tail),str(head),str(edgeLabel[tail,head]),color=col)\n",
    "        else:\n",
    "            g.edge(str(tail),str(head),color=col)\n",
    "    return g"
   ]
  },
  {
   "cell_type": "code",
   "execution_count": 4,
   "metadata": {
    "ExecuteTime": {
     "end_time": "2023-10-04T11:06:53.464354200Z",
     "start_time": "2023-10-04T11:06:53.380135600Z"
    }
   },
   "outputs": [
    {
     "name": "stdout",
     "output_type": "stream",
     "text": [
      "net with 7 nodes & 20 edges\n"
     ]
    },
    {
     "ename": "AttributeError",
     "evalue": "'DiGraph' object has no attribute 'nodes_iter'",
     "output_type": "error",
     "traceback": [
      "\u001B[1;31m---------------------------------------------------------------------------\u001B[0m",
      "\u001B[1;31mAttributeError\u001B[0m                            Traceback (most recent call last)",
      "Cell \u001B[1;32mIn[4], line 4\u001B[0m\n\u001B[0;32m      2\u001B[0m net \u001B[38;5;241m=\u001B[39m nx\u001B[38;5;241m.\u001B[39mbinomial_graph(\u001B[38;5;241m7\u001B[39m,\u001B[38;5;241m0.4\u001B[39m,directed\u001B[38;5;241m=\u001B[39m\u001B[38;5;28;01mTrue\u001B[39;00m)\n\u001B[0;32m      3\u001B[0m \u001B[38;5;28mprint\u001B[39m(\u001B[38;5;124m\"\u001B[39m\u001B[38;5;124mnet with \u001B[39m\u001B[38;5;132;01m%d\u001B[39;00m\u001B[38;5;124m nodes & \u001B[39m\u001B[38;5;132;01m%d\u001B[39;00m\u001B[38;5;124m edges\u001B[39m\u001B[38;5;124m\"\u001B[39m\u001B[38;5;241m%\u001B[39m(net\u001B[38;5;241m.\u001B[39mnumber_of_nodes(),net\u001B[38;5;241m.\u001B[39mnumber_of_edges()))\n\u001B[1;32m----> 4\u001B[0m nx2gv(net)\n",
      "Cell \u001B[1;32mIn[3], line 7\u001B[0m, in \u001B[0;36mnx2gv\u001B[1;34m(net, nodeLabel, edgeLabel, edgeSet, nodeSet)\u001B[0m\n\u001B[0;32m      4\u001B[0m \u001B[38;5;250m\u001B[39m\u001B[38;5;124;03m\"\"\"Convert networkx.DiGraph to graphviz.Digraph for visualisation.\u001B[39;00m\n\u001B[0;32m      5\u001B[0m \u001B[38;5;124;03mOptionally include labels (values) for nodes, arcs & sets to highlight\"\"\"\u001B[39;00m\n\u001B[0;32m      6\u001B[0m g \u001B[38;5;241m=\u001B[39m graphviz\u001B[38;5;241m.\u001B[39mDigraph()\n\u001B[1;32m----> 7\u001B[0m \u001B[38;5;28;01mfor\u001B[39;00m nd \u001B[38;5;129;01min\u001B[39;00m net\u001B[38;5;241m.\u001B[39mnodes_iter():\n\u001B[0;32m      8\u001B[0m     g\u001B[38;5;241m.\u001B[39mnode(\u001B[38;5;28mstr\u001B[39m(nd),\u001B[38;5;28mstr\u001B[39m(nd)\u001B[38;5;241m+\u001B[39m(\u001B[38;5;124m\"\u001B[39m\u001B[38;5;124m:\u001B[39m\u001B[38;5;124m\"\u001B[39m\u001B[38;5;241m+\u001B[39m\u001B[38;5;28mstr\u001B[39m(nodeLabel[nd]) \u001B[38;5;28;01mif\u001B[39;00m nd \u001B[38;5;129;01min\u001B[39;00m nodeLabel \u001B[38;5;28;01melse\u001B[39;00m \u001B[38;5;124m\"\u001B[39m\u001B[38;5;124m\"\u001B[39m),\n\u001B[0;32m      9\u001B[0m            color\u001B[38;5;241m=\u001B[39m(\u001B[38;5;124m\"\u001B[39m\u001B[38;5;124mred\u001B[39m\u001B[38;5;124m\"\u001B[39m \u001B[38;5;28;01mif\u001B[39;00m nd \u001B[38;5;129;01min\u001B[39;00m nodeSet \u001B[38;5;28;01melse\u001B[39;00m \u001B[38;5;124m\"\u001B[39m\u001B[38;5;124mblack\u001B[39m\u001B[38;5;124m\"\u001B[39m))\n\u001B[0;32m     10\u001B[0m \u001B[38;5;28;01mfor\u001B[39;00m tail,head \u001B[38;5;129;01min\u001B[39;00m net\u001B[38;5;241m.\u001B[39medges_iter():\n",
      "\u001B[1;31mAttributeError\u001B[0m: 'DiGraph' object has no attribute 'nodes_iter'"
     ]
    }
   ],
   "source": [
    "# create a random graph with n nodes and probability p of arc between nodes\n",
    "net = nx.binomial_graph(7,0.4,directed=True)\n",
    "print(\"net with %d nodes & %d edges\"%(net.number_of_nodes(),net.number_of_edges()))\n",
    "nx2gv(net)"
   ]
  },
  {
   "cell_type": "markdown",
   "metadata": {},
   "source": [
    "### Using the Networkx graph algorithms\n",
    "Here is an example of a graph algorithm (shortest path). We need to store the data on arc lengths in each edge dictionary and then run the algorithm. Aftewards the utility function is used to display the graph together with the distance labels. The code also highlights the edges in the shortest path tree and the set of reachable nodes."
   ]
  },
  {
   "cell_type": "code",
   "execution_count": 5,
   "metadata": {
    "ExecuteTime": {
     "end_time": "2023-10-04T11:07:01.066022600Z",
     "start_time": "2023-10-04T11:07:00.859187600Z"
    }
   },
   "outputs": [
    {
     "ename": "AttributeError",
     "evalue": "'DiGraph' object has no attribute 'edges_iter'",
     "output_type": "error",
     "traceback": [
      "\u001B[1;31m---------------------------------------------------------------------------\u001B[0m",
      "\u001B[1;31mAttributeError\u001B[0m                            Traceback (most recent call last)",
      "Cell \u001B[1;32mIn[5], line 3\u001B[0m\n\u001B[0;32m      1\u001B[0m \u001B[38;5;66;03m# set some random data\u001B[39;00m\n\u001B[0;32m      2\u001B[0m \u001B[38;5;28;01mimport\u001B[39;00m \u001B[38;5;21;01mrandom\u001B[39;00m\n\u001B[1;32m----> 3\u001B[0m \u001B[38;5;28;01mfor\u001B[39;00m frm,to,data \u001B[38;5;129;01min\u001B[39;00m net\u001B[38;5;241m.\u001B[39medges_iter(data\u001B[38;5;241m=\u001B[39m\u001B[38;5;28;01mTrue\u001B[39;00m): \n\u001B[0;32m      4\u001B[0m     data[\u001B[38;5;124m\"\u001B[39m\u001B[38;5;124mweight\u001B[39m\u001B[38;5;124m\"\u001B[39m]\u001B[38;5;241m=\u001B[39mrandom\u001B[38;5;241m.\u001B[39mrandint(\u001B[38;5;241m1\u001B[39m,\u001B[38;5;241m99\u001B[39m)  \u001B[38;5;66;03m# create random edge weight in {1,2,...,99}\u001B[39;00m\n\u001B[0;32m      5\u001B[0m dist \u001B[38;5;241m=\u001B[39m nx\u001B[38;5;241m.\u001B[39mshortest_path_length(net,\u001B[38;5;241m0\u001B[39m,weight\u001B[38;5;241m=\u001B[39m\u001B[38;5;124m\"\u001B[39m\u001B[38;5;124mweight\u001B[39m\u001B[38;5;124m\"\u001B[39m) \u001B[38;5;66;03m# from node 0 to all others\u001B[39;00m\n",
      "\u001B[1;31mAttributeError\u001B[0m: 'DiGraph' object has no attribute 'edges_iter'"
     ]
    }
   ],
   "source": [
    "# set some random data\n",
    "import random\n",
    "for frm,to,data in net.edges_iter(data=True): \n",
    "    data[\"weight\"]=random.randint(1,99)  # create random edge weight in {1,2,...,99}\n",
    "dist = nx.shortest_path_length(net,0,weight=\"weight\") # from node 0 to all others\n",
    "# Now display the resulting graph\n",
    "nx2gv(net,nodeLabel=dist,\n",
    "      nodeSet=set(dist.keys()), # reachable nodes\n",
    "      edgeSet={ (a,b) for a,b,data in net.edges_iter(data=True) \n",
    "               if a in dist and dist[a]+data[\"weight\"]==dist[b]},\n",
    "      edgeLabel={ (a,b):data[\"weight\"] for  a,b,data in net.edges_iter(data=True)})"
   ]
  },
  {
   "cell_type": "markdown",
   "metadata": {},
   "source": [
    "### CPLEX Network Simplex Method\n",
    "The CPLEX library contains a very fast, network simplex method for solving network flow problems. A simple python interface to this is provided in the `mymip.mycplex` library.  The basic methods for this are\n",
    " * `N=mymip.mycplex.Network()` constructs a network object\n",
    " * `N.addNode(s)` creates a node with supply `s` and returns the node object\n",
    " * `N.addArc(a,b,lb=0,ub=10,obj=3,name='a_b')` The first two arguments must be node objects created with `addNode`. All of the arguments except the first are optional (lower and upper bound default to zero/infinity, objective to 0 and name to the empty string)\n",
    " * `N.optimise()` to solve the optimisation problem\n",
    "Once the network flow problem has been solved `arc.x` and `node.x` (for node objects and arc objects) contains the primal (arc flow) and dual (node potential) information."
   ]
  },
  {
   "cell_type": "code",
   "execution_count": 6,
   "metadata": {
    "ExecuteTime": {
     "end_time": "2023-10-04T11:07:07.729615300Z",
     "start_time": "2023-10-04T11:07:05.882184Z"
    }
   },
   "outputs": [
    {
     "ename": "TypeError",
     "evalue": "argument of type 'NoneType' is not iterable",
     "output_type": "error",
     "traceback": [
      "\u001B[1;31m---------------------------------------------------------------------------\u001B[0m",
      "\u001B[1;31mTypeError\u001B[0m                                 Traceback (most recent call last)",
      "Cell \u001B[1;32mIn[6], line 1\u001B[0m\n\u001B[1;32m----> 1\u001B[0m \u001B[38;5;28;01mimport\u001B[39;00m \u001B[38;5;21;01mmymip\u001B[39;00m\n\u001B[0;32m      2\u001B[0m N \u001B[38;5;241m=\u001B[39m mymip\u001B[38;5;241m.\u001B[39mmycplex\u001B[38;5;241m.\u001B[39mNetwork()\n\u001B[0;32m      3\u001B[0m src\u001B[38;5;241m=\u001B[39m\u001B[38;5;241m0\u001B[39m\n",
      "File \u001B[1;32mD:\\Document\\Study\\Term 1\\COMP0137 Machine Vision\\Lab1\\Python4Maths-master\\mymip\\__init__.py:1\u001B[0m\n\u001B[1;32m----> 1\u001B[0m \u001B[38;5;28;01mfrom\u001B[39;00m \u001B[38;5;21;01m.\u001B[39;00m\u001B[38;5;21;01mmycplex\u001B[39;00m \u001B[38;5;28;01mimport\u001B[39;00m CPLEXversion,cplex,ptr,Env,ZeroOne,Integer,Continuous,SemiCont,SemiInt,Constraint,pSUM,\u001B[38;5;28msum\u001B[39m,Model,\u001B[38;5;18m__doc__\u001B[39m\n\u001B[0;32m      2\u001B[0m \u001B[38;5;28;01mfrom\u001B[39;00m \u001B[38;5;21;01m.\u001B[39;00m\u001B[38;5;21;01mcpxconst\u001B[39;00m \u001B[38;5;28;01mimport\u001B[39;00m \u001B[38;5;241m*\u001B[39m\n",
      "File \u001B[1;32mD:\\Document\\Study\\Term 1\\COMP0137 Machine Vision\\Lab1\\Python4Maths-master\\mymip\\mycplex.py:174\u001B[0m\n\u001B[0;32m    172\u001B[0m \u001B[38;5;28;01mfrom\u001B[39;00m \u001B[38;5;21;01mcontextlib\u001B[39;00m \u001B[38;5;28;01mimport\u001B[39;00m contextmanager\n\u001B[0;32m    173\u001B[0m \u001B[38;5;66;03m# use_errno parameter is optional, because I'm not checking errno anyway.\u001B[39;00m\n\u001B[1;32m--> 174\u001B[0m libc \u001B[38;5;241m=\u001B[39m ctypes\u001B[38;5;241m.\u001B[39mCDLL(ctypes\u001B[38;5;241m.\u001B[39mutil\u001B[38;5;241m.\u001B[39mfind_library(\u001B[38;5;124m'\u001B[39m\u001B[38;5;124mc\u001B[39m\u001B[38;5;124m'\u001B[39m), use_errno\u001B[38;5;241m=\u001B[39m\u001B[38;5;28;01mTrue\u001B[39;00m)\n\u001B[0;32m    175\u001B[0m \u001B[38;5;28;01mclass\u001B[39;00m \u001B[38;5;21;01mFILE\u001B[39;00m(ctypes\u001B[38;5;241m.\u001B[39mStructure):\n\u001B[0;32m    176\u001B[0m     \u001B[38;5;28;01mpass\u001B[39;00m\n",
      "File \u001B[1;32mD:\\Anaconda\\Lib\\ctypes\\__init__.py:366\u001B[0m, in \u001B[0;36mCDLL.__init__\u001B[1;34m(self, name, mode, handle, use_errno, use_last_error, winmode)\u001B[0m\n\u001B[0;32m    364\u001B[0m \u001B[38;5;28;01mimport\u001B[39;00m \u001B[38;5;21;01mnt\u001B[39;00m\n\u001B[0;32m    365\u001B[0m mode \u001B[38;5;241m=\u001B[39m nt\u001B[38;5;241m.\u001B[39m_LOAD_LIBRARY_SEARCH_DEFAULT_DIRS\n\u001B[1;32m--> 366\u001B[0m \u001B[38;5;28;01mif\u001B[39;00m \u001B[38;5;124m'\u001B[39m\u001B[38;5;124m/\u001B[39m\u001B[38;5;124m'\u001B[39m \u001B[38;5;129;01min\u001B[39;00m name \u001B[38;5;129;01mor\u001B[39;00m \u001B[38;5;124m'\u001B[39m\u001B[38;5;130;01m\\\\\u001B[39;00m\u001B[38;5;124m'\u001B[39m \u001B[38;5;129;01min\u001B[39;00m name:\n\u001B[0;32m    367\u001B[0m     \u001B[38;5;28mself\u001B[39m\u001B[38;5;241m.\u001B[39m_name \u001B[38;5;241m=\u001B[39m nt\u001B[38;5;241m.\u001B[39m_getfullpathname(\u001B[38;5;28mself\u001B[39m\u001B[38;5;241m.\u001B[39m_name)\n\u001B[0;32m    368\u001B[0m     mode \u001B[38;5;241m|\u001B[39m\u001B[38;5;241m=\u001B[39m nt\u001B[38;5;241m.\u001B[39m_LOAD_LIBRARY_SEARCH_DLL_LOAD_DIR\n",
      "\u001B[1;31mTypeError\u001B[0m: argument of type 'NoneType' is not iterable"
     ]
    }
   ],
   "source": [
    "import mymip\n",
    "N = mymip.mycplex.Network()\n",
    "src=0\n",
    "reachable=len(dist)-1 # number of reachable nodes\n",
    "node=[N.addNode( reachable if n==src else (-1 if n in dist else 0))\n",
    "      for n in net.nodes_iter()]\n",
    "edge=[N.addArc(node[a],node[b],lb=0,obj=data['weight'])\n",
    "      for a,b,data in net.edges_iter(data=True)]\n",
    "N.optimise()\n",
    "print(N.status()+\": Sum of\",reachable,\"shortest paths from node\",src,\"is\",N.objective())\n",
    "nx2gv(net,\n",
    "      nodeLabel={nd.id:(node[0].x-nd.x) for nd in node}, # node potential=distance\n",
    "      edgeSet={ (e.src.id,e.to.id) for e in edge if e.x > 0},\n",
    "      edgeLabel={ (e.src.id,e.to.id):e.x for  e in edge}) # flow on each edge"
   ]
  },
  {
   "cell_type": "code",
   "execution_count": null,
   "metadata": {
    "collapsed": true
   },
   "outputs": [],
   "source": []
  }
 ],
 "metadata": {
  "kernelspec": {
   "display_name": "Python 3",
   "language": "python",
   "name": "python3"
  },
  "language_info": {
   "codemirror_mode": {
    "name": "ipython",
    "version": 3
   },
   "file_extension": ".py",
   "mimetype": "text/x-python",
   "name": "python",
   "nbconvert_exporter": "python",
   "pygments_lexer": "ipython3",
   "version": "3.6.2"
  }
 },
 "nbformat": 4,
 "nbformat_minor": 2
}
